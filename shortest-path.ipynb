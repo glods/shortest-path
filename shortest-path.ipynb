{
 "cells": [
  {
   "cell_type": "markdown",
   "metadata": {},
   "source": [
    "## Script that open a file\n",
    "\n",
    "Let assume we want to open a txt file name file.txt. The following code will be using"
   ]
  },
  {
   "cell_type": "code",
   "execution_count": 6,
   "metadata": {},
   "outputs": [],
   "source": [
    "f = open(\"file.txt\", \"r\")\n"
   ]
  },
  {
   "cell_type": "markdown",
   "metadata": {},
   "source": [
    "## Find the shortest path\n",
    "We are looking for the shortest part from a point A to a point B given their latitudinal and longitudinal coordinates. For achieving our goal, we first create a class Node that describes a given node of our work. We will the graph theory for this work.\n",
    "\n",
    "As library, we will use networkx for drawing the graph and matplolib for displaying it\n"
   ]
  },
  {
   "cell_type": "code",
   "execution_count": 7,
   "metadata": {},
   "outputs": [
    {
     "ename": "NameError",
     "evalue": "name 'testPoint' is not defined",
     "output_type": "error",
     "traceback": [
      "\u001b[0;31m---------------------------------------------------------------------------\u001b[0m",
      "\u001b[0;31mNameError\u001b[0m                                 Traceback (most recent call last)",
      "\u001b[0;32m<ipython-input-7-7c965272ccb8>\u001b[0m in \u001b[0;36m<module>\u001b[0;34m\u001b[0m\n\u001b[1;32m     37\u001b[0m     \u001b[0;32mreturn\u001b[0m \u001b[0;34m(\u001b[0m\u001b[0mp1\u001b[0m\u001b[0;34m.\u001b[0m\u001b[0mdistance\u001b[0m\u001b[0;34m(\u001b[0m\u001b[0mp2\u001b[0m\u001b[0;34m)\u001b[0m\u001b[0;34m)\u001b[0m\u001b[0;34m\u001b[0m\u001b[0;34m\u001b[0m\u001b[0m\n\u001b[1;32m     38\u001b[0m \u001b[0;34m\u001b[0m\u001b[0m\n\u001b[0;32m---> 39\u001b[0;31m \u001b[0mprint\u001b[0m \u001b[0;34m(\u001b[0m\u001b[0;34m\"distance = %s\"\u001b[0m\u001b[0;34m%\u001b[0m\u001b[0;34m(\u001b[0m\u001b[0mtestPoint\u001b[0m\u001b[0;34m(\u001b[0m\u001b[0;34m)\u001b[0m\u001b[0;34m)\u001b[0m\u001b[0;34m)\u001b[0m\u001b[0;34m\u001b[0m\u001b[0;34m\u001b[0m\u001b[0m\n\u001b[0m",
      "\u001b[0;31mNameError\u001b[0m: name 'testPoint' is not defined"
     ]
    }
   ],
   "source": [
    "import math\n",
    "from math import sin, cos, sqrt, atan2, radians\n",
    "\n",
    "class Node(object):\n",
    "    '''Creates a point with values latitude and longitude as coordinates.'''\n",
    "    def __init__(self, latitude, longitude):\n",
    "        '''Defines latitude and longitude variables'''\n",
    "        self.latitude = latitude\n",
    "        self.longitude = longitude\n",
    "\n",
    "    def __str__(self):\n",
    "        return \"Node(%s,%s)\"%(self.latitude, self.longitude)\n",
    "\n",
    "\n",
    "    def getLatitude(self):\n",
    "        return self.latitude\n",
    "\n",
    "    def getLongitude(self):\n",
    "        return self.longitude\n",
    "\n",
    "    def distance(self, other, R= 6373.0):\n",
    "        '''Compute the distance between two points given their coordinates.\n",
    "        R is the approximation of the radius of the earth in km '''\n",
    "        dlat = radians(self.latitude) - radians(other.latitude)\n",
    "        dlon = radians(self.longitude) - radians(other.longitude)\n",
    "        a = sin(dlat / 2)**2 + cos(self.latitude) * cos(other.latitude) * sin(dlon / 2)**2\n",
    "        c = 2 * atan2(sqrt(a), sqrt(1 - a))\n",
    "        distance = R * c\n",
    "        return (distance)\n",
    "# Test the node\n",
    "def testNode(x=0,y=0):\n",
    "    '''Returns a point and distance'''\n",
    "    p1 = Node(3, 4)\n",
    "    print (p1)\n",
    "    p2 = Node(3,0)\n",
    "    print (p2)\n",
    "    return (p1.distance(p2))\n",
    "\n",
    "print (\"distance = %s\"%(testPoint()))"
   ]
  },
  {
   "cell_type": "code",
   "execution_count": 8,
   "metadata": {},
   "outputs": [],
   "source": [
    "def shortestpath(start, end , weight, shortestRoute, visited, routesTable):\n",
    "# Check if start and end nodes exists in route table\n",
    "    if start in routesTable and end in routesTable:\n",
    "        visited.append(start) # mark start to visited\n",
    "        #print ('visited', visited)\n",
    "        # For all not adjences of the started node\n",
    "        for adj in routesTable[start]:\n",
    "            if(adj == end or adj not in visited):\n",
    "                weight += routesTable[start][adj]\n",
    "\n",
    "            '''\n",
    "        If destination matches, we compare\n",
    "        weight of this route to shortest route\n",
    "        so far, and make appropriate switch\n",
    "            '''\n",
    "            if adj == end:\n",
    "                if shortestRoute == 0 or weight < shortestRoute:\n",
    "                    shortestRoute = weight\n",
    "                #print('remove : ', start)\n",
    "                visited.remove(start)\n",
    "                \n",
    "                #print('visited', visited,'Shortest route', shortestRoute)\n",
    "                return shortestRoute\n",
    "            '''\n",
    "        If destination does not match, and\n",
    "        destination node has not yet been visited,\n",
    "        we recursively traverse destination node\n",
    "            '''\n",
    "            if adj not in visited:\n",
    "                shortestRoute = shortestpath(adj, end, weight, shortestRoute, visited, routesTable)\n",
    "                weight -= routesTable[start][adj]\n",
    "    else:\n",
    "        return \"No such route exists\"\n",
    "\n",
    "\n",
    "    return shortestRoute\n"
   ]
  },
  {
   "cell_type": "markdown",
   "metadata": {},
   "source": [
    "## Try the above function"
   ]
  },
  {
   "cell_type": "code",
   "execution_count": 9,
   "metadata": {},
   "outputs": [],
   "source": [
    "# Create differents points\n",
    "na =Node(1,2) # Point A\n",
    "nb=Node(1,3)  # Point B\n",
    "nc = Node(2,5) #Point C\n",
    "nd=Node(6,1)  # Point D\n",
    "ne=Node(5,4) # Point E\n",
    "\n",
    "# Create a graph \n",
    "\n",
    "graph = {'A': {'B':na.distance(nb) , 'D': na.distance(nd) },\n",
    "         'B': {'C': nb.distance(nc)},'C': {'E': nc.distance(ne)},\n",
    "         'D': {'C': nd.distance(nc), 'E':  nd.distance(ne)},'E': {'B': ne.distance(nb),\n",
    "                                                                  'A':ne.distance(na)}}\n"
   ]
  },
  {
   "cell_type": "markdown",
   "metadata": {},
   "source": [
    "### Print the shortest distance from A to A"
   ]
  },
  {
   "cell_type": "code",
   "execution_count": 10,
   "metadata": {},
   "outputs": [
    {
     "name": "stdout",
     "output_type": "stream",
     "text": [
      "The shortest path from A to A is :  880.2535587203795\n"
     ]
    }
   ],
   "source": [
    "print('The shortest path from A to A is : ',shortestpath('A', 'A', 0, 0, [], graph))"
   ]
  },
  {
   "cell_type": "markdown",
   "metadata": {},
   "source": [
    "# Display a graph created above"
   ]
  },
  {
   "cell_type": "code",
   "execution_count": 11,
   "metadata": {},
   "outputs": [],
   "source": [
    "import networkx as nx\n",
    "import matplotlib.pyplot as plt\n",
    "\n",
    "G = nx.DiGraph()\n",
    "\n",
    "G.add_edges_from([('A', 'B')], weight=round(na.distance(nb),2))\n",
    "G.add_edges_from([('A','D')], weight=round(na.distance(nd),2))\n",
    "G.add_edges_from([('B','C')], weight=round(nb.distance(nc),2))\n",
    "G.add_edges_from([('C','E')], weight=round(nc.distance(ne),2))\n",
    "G.add_edges_from([('D','C')], weight=round(nd.distance(nc),1))\n",
    "G.add_edges_from([('D','E')], weight=round(nd.distance(ne),1))\n",
    "G.add_edges_from([('E','A')], weight=round(ne.distance(na),1))\n",
    "\n",
    "\n",
    "edge_labels=dict([((u,v,),d['weight'])\n",
    "                 for u,v,d in G.edges(data=True)])\n",
    "red_edges = [('C','D'),('D','A')]\n",
    "edge_colors = ['black' if not edge in red_edges else 'red' for edge in G.edges()]\n",
    "\n"
   ]
  },
  {
   "cell_type": "code",
   "execution_count": 12,
   "metadata": {},
   "outputs": [
    {
     "data": {
      "image/png": "[encoded data removed]",
      "text/plain": [
       "<Figure size 432x288 with 1 Axes>"
      ]
     },
     "metadata": {},
     "output_type": "display_data"
    }
   ],
   "source": [
    "pos=nx.spring_layout(G)\n",
    "nx.draw_networkx_edge_labels(G,pos,edge_labels=edge_labels)\n",
    "nx.draw(G,pos, node_color = 'green', node_size=1500,edge_color=edge_colors,edge_cmap=plt.cm.Reds, with_labels = True)\n",
    "plt.show()\n"
   ]
  },
  {
   "cell_type": "code",
   "execution_count": 13,
   "metadata": {},
   "outputs": [],
   "source": [
    "import networkx as nx\n",
    "import matplotlib.pyplot as plt\n",
    "def test():\n",
    "    # Create differents points\n",
    "    na =Node(1,2) # Point A\n",
    "    nb=Node(1,3)  # Point B\n",
    "    nc = Node(2,5) #Point C\n",
    "    nd=Node(6,1)  # Point D\n",
    "    ne=Node(5,4) # Point E\n",
    "\n",
    "    # Create a graph \n",
    "\n",
    "    graph = {'A': {'B':na.distance(nb) , 'D': na.distance(nd) },\n",
    "         'B': {'C': nb.distance(nc)},'C': {'E': nc.distance(ne)},\n",
    "         'D': {'C': nd.distance(nc), 'E':  nd.distance(ne)},'E': {'B': ne.distance(nb),\n",
    "                                                                  'A':ne.distance(na)}}\n",
    "\n",
    "    G = nx.DiGraph()\n",
    "    G.add_edges_from([('A', 'B')], weight=round(na.distance(nb),2))\n",
    "    G.add_edges_from([('A','D')], weight=round(na.distance(nd),2))\n",
    "    G.add_edges_from([('B','C')], weight=round(nb.distance(nc),2))\n",
    "    G.add_edges_from([('C','E')], weight=round(nc.distance(ne),2))\n",
    "    G.add_edges_from([('D','C')], weight=round(nd.distance(nc),1))\n",
    "    G.add_edges_from([('D','E')], weight=round(nd.distance(ne),1))\n",
    "    G.add_edges_from([('E','A')], weight=round(ne.distance(na),1))\n",
    "\n",
    "\n",
    "    edge_labels=dict([((u,v,),d['weight'])\n",
    "                 for u,v,d in G.edges(data=True)])\n",
    "    red_edges = [('C','D'),('D','A')]\n",
    "    edge_colors = ['black' if not edge in red_edges else 'red' for edge in G.edges()]\n",
    "\n",
    "    pos=nx.spring_layout(G)\n",
    "    nx.draw_networkx_edge_labels(G,pos,edge_labels=edge_labels)\n",
    "    nx.draw(G,pos, node_color = 'green', node_size=1500,edge_color=edge_colors,edge_cmap=plt.cm.Reds, with_labels = True)\n",
    "    plt.show()\n"
   ]
  },
  {
   "cell_type": "code",
   "execution_count": 14,
   "metadata": {},
   "outputs": [
    {
     "data": {
      "image/png": "[encoded data removed]",
      "text/plain": [
       "<Figure size 432x288 with 1 Axes>"
      ]
     },
     "metadata": {},
     "output_type": "display_data"
    }
   ],
   "source": [
    "test()"
   ]
  },
  {
   "cell_type": "code",
   "execution_count": null,
   "metadata": {},
   "outputs": [],
   "source": []
  }
 ],
 "metadata": {
  "kernelspec": {
   "display_name": "Python 3",
   "language": "python",
   "name": "python3"
  },
  "language_info": {
   "codemirror_mode": {
    "name": "ipython",
    "version": 3
   },
   "file_extension": ".py",
   "mimetype": "text/x-python",
   "name": "python",
   "nbconvert_exporter": "python",
   "pygments_lexer": "ipython3",
   "version": "3.8.2"
  }
 },
 "nbformat": 4,
 "nbformat_minor": 4
}
